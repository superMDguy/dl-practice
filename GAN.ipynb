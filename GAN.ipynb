{
 "cells": [
  {
   "cell_type": "markdown",
   "metadata": {},
   "source": [
    "# PyTorch GAN\n",
    "\n",
    "## References\n",
    "* [Generative Adversarial Nets](https://papers.nips.cc/paper/5423-generative-adversarial-nets.pdf)\n",
    "* [Improved Techniques for Training GANs](http://papers.nips.cc/paper/6125-improved-techniques-for-training-gans.pdf)"
   ]
  },
  {
   "cell_type": "markdown",
   "metadata": {},
   "source": [
    "## Load Data"
   ]
  },
  {
   "cell_type": "code",
   "execution_count": 1,
   "metadata": {},
   "outputs": [],
   "source": [
    "import matplotlib\n",
    "%matplotlib inline\n",
    "\n",
    "from torchvision import transforms, datasets, utils\n",
    "import torch\n",
    "import matplotlib.pyplot as plt\n",
    "import numpy as np\n",
    "from random import choice"
   ]
  },
  {
   "cell_type": "code",
   "execution_count": 2,
   "metadata": {},
   "outputs": [],
   "source": [
    "tfms = transforms.ToTensor()"
   ]
  },
  {
   "cell_type": "code",
   "execution_count": 3,
   "metadata": {},
   "outputs": [
    {
     "name": "stdout",
     "output_type": "stream",
     "text": [
      "Number of training samples: 60000\n",
      "Number of testing samples: 10000\n"
     ]
    }
   ],
   "source": [
    "trainset = datasets.MNIST(root='~/Code/dl/datasets', train=True, download=True, transform=tfms)\n",
    "trainloader = torch.utils.data.DataLoader(trainset, batch_size=32, shuffle=True, num_workers=4)\n",
    "print(f'Number of training samples: {len(trainset)}')\n",
    "\n",
    "testset = datasets.MNIST(root='~/Code/dl/datasets', train=False, download=True, transform=tfms)\n",
    "testloader = torch.utils.data.DataLoader(testset, batch_size=4096, shuffle=True, num_workers=4)\n",
    "print(f'Number of testing samples: {len(testset)}')"
   ]
  },
  {
   "cell_type": "code",
   "execution_count": 4,
   "metadata": {},
   "outputs": [
    {
     "data": {
      "text/plain": [
       "<matplotlib.image.AxesImage at 0x7f53f756a390>"
      ]
     },
     "execution_count": 4,
     "metadata": {},
     "output_type": "execute_result"
    },
    {
     "data": {
      "image/png": "[encoded data removed]",
      "text/plain": [
       "<matplotlib.figure.Figure at 0x7f54680e8a58>"
      ]
     },
     "metadata": {},
     "output_type": "display_data"
    }
   ],
   "source": [
    "plt.imshow(np.squeeze(choice(trainset)[0]), cmap='gray')"
   ]
  },
  {
   "cell_type": "code",
   "execution_count": 5,
   "metadata": {},
   "outputs": [],
   "source": [
    "dimensions = (1, 28, 28)\n",
    "img_length = int(np.prod(dimensions))"
   ]
  },
  {
   "cell_type": "markdown",
   "metadata": {},
   "source": [
    "## Define Models and Loss"
   ]
  },
  {
   "cell_type": "code",
   "execution_count": 6,
   "metadata": {},
   "outputs": [],
   "source": [
    "from torch import nn"
   ]
  },
  {
   "cell_type": "code",
   "execution_count": 7,
   "metadata": {},
   "outputs": [],
   "source": [
    "class Flatten(nn.Module):\n",
    "    def __init__(self):\n",
    "        super(Flatten, self).__init__()\n",
    "        \n",
    "    def forward(self, x):\n",
    "        return x.view(x.size()[0], -1)"
   ]
  },
  {
   "cell_type": "code",
   "execution_count": 8,
   "metadata": {},
   "outputs": [],
   "source": [
    "device = torch.device('cuda')\n",
    "z_length = 20\n",
    "\n",
    "generator = nn.Sequential(\n",
    "    Flatten(),\n",
    "    nn.Linear(z_length, 300),\n",
    "    nn.ReLU(),\n",
    "    nn.Linear(300, img_length),\n",
    "    nn.ReLU()\n",
    ").to(device)"
   ]
  },
  {
   "cell_type": "code",
   "execution_count": 9,
   "metadata": {},
   "outputs": [],
   "source": [
    "def get_generator_loss():\n",
    "    z = torch.randn((batch_size, z_length)).to(device)\n",
    "    return -1 * torch.mean(torch.log(discriminator(generator(z))))"
   ]
  },
  {
   "cell_type": "code",
   "execution_count": 10,
   "metadata": {},
   "outputs": [],
   "source": [
    "discriminator = nn.Sequential(\n",
    "    Flatten(),\n",
    "    nn.Linear(img_length, 300),\n",
    "    nn.ReLU(),\n",
    "    nn.Linear(300, 1),\n",
    "    nn.Sigmoid(),\n",
    "#     Debug()\n",
    ").to(device)"
   ]
  },
  {
   "cell_type": "code",
   "execution_count": 11,
   "metadata": {},
   "outputs": [],
   "source": [
    "def get_discriminator_loss():\n",
    "    z = torch.randn((batch_size, z_length)).to(device)\n",
    "    loss = torch.log(discriminator(x)) + torch.log(1 - discriminator(generator(z)))\n",
    "    loss = -1 * torch.mean(loss)\n",
    "    return loss"
   ]
  },
  {
   "cell_type": "markdown",
   "metadata": {},
   "source": [
    "## Training"
   ]
  },
  {
   "cell_type": "code",
   "execution_count": 12,
   "metadata": {},
   "outputs": [],
   "source": [
    "generator_optim = torch.optim.Adam(generator.parameters(), lr=1e-4)\n",
    "discriminator_optim = torch.optim.Adam(discriminator.parameters(), lr=1e-4)"
   ]
  },
  {
   "cell_type": "code",
   "execution_count": 13,
   "metadata": {},
   "outputs": [
    {
     "data": {
      "text/plain": [
       "<matplotlib.image.AxesImage at 0x7f53f048db38>"
      ]
     },
     "execution_count": 13,
     "metadata": {},
     "output_type": "execute_result"
    },
    {
     "data": {
      "image/png": "[encoded data removed]",
      "text/plain": [
       "<matplotlib.figure.Figure at 0x7f53f7546630>"
      ]
     },
     "metadata": {},
     "output_type": "display_data"
    }
   ],
   "source": [
    "plt.imshow(trainset[0][0].squeeze(), cmap='gray')"
   ]
  },
  {
   "cell_type": "code",
   "execution_count": 14,
   "metadata": {},
   "outputs": [
    {
     "name": "stdout",
     "output_type": "stream",
     "text": [
      "Epoch 1/20\n",
      "Average generator loss 1.5627648830413818\n",
      "Average discriminator loss 0.5409525632858276\n",
      "Epoch 2/20\n",
      "Average generator loss 1.7363580465316772\n",
      "Average discriminator loss 0.5194142460823059\n",
      "Epoch 3/20\n",
      "Average generator loss 1.6775398254394531\n",
      "Average discriminator loss 0.5978693962097168\n",
      "Epoch 4/20\n",
      "Average generator loss 1.5274986028671265\n",
      "Average discriminator loss 0.6819452047348022\n",
      "Epoch 5/20\n",
      "Average generator loss 1.490682601928711\n",
      "Average discriminator loss 0.7724573612213135\n",
      "Epoch 6/20\n",
      "Average generator loss 1.3815150260925293\n",
      "Average discriminator loss 0.8220398426055908\n",
      "Epoch 7/20\n",
      "Average generator loss 1.4156230688095093\n",
      "Average discriminator loss 0.7971274256706238\n",
      "Epoch 8/20\n",
      "Average generator loss 1.3505247831344604\n",
      "Average discriminator loss 0.8422993421554565\n",
      "Epoch 9/20\n",
      "Average generator loss 1.3926372528076172\n",
      "Average discriminator loss 0.8064237833023071\n",
      "Epoch 10/20\n",
      "Average generator loss 1.39400053024292\n",
      "Average discriminator loss 0.8298877477645874\n",
      "Epoch 11/20\n",
      "Average generator loss 1.3906762599945068\n",
      "Average discriminator loss 0.8381209969520569\n",
      "Epoch 12/20\n",
      "Average generator loss 1.4387519359588623\n",
      "Average discriminator loss 0.835385799407959\n",
      "Epoch 13/20\n",
      "Average generator loss 1.4405518770217896\n",
      "Average discriminator loss 0.8227190971374512\n",
      "Epoch 14/20\n",
      "Average generator loss 1.50369393825531\n",
      "Average discriminator loss 0.8073791265487671\n",
      "Epoch 15/20\n",
      "Average generator loss 1.4949538707733154\n",
      "Average discriminator loss 0.8129721879959106\n",
      "Epoch 16/20\n",
      "Average generator loss 1.4828028678894043\n",
      "Average discriminator loss 0.8358721733093262\n",
      "Epoch 17/20\n",
      "Average generator loss 1.51875638961792\n",
      "Average discriminator loss 0.8138023018836975\n",
      "Epoch 18/20\n",
      "Average generator loss 1.474888801574707\n",
      "Average discriminator loss 0.8248538970947266\n",
      "Epoch 19/20\n",
      "Average generator loss 1.5126651525497437\n",
      "Average discriminator loss 0.81255042552948\n",
      "Epoch 20/20\n",
      "Average generator loss 1.5271713733673096\n",
      "Average discriminator loss 0.8008608222007751\n"
     ]
    }
   ],
   "source": [
    "disc_steps = 1 # k in the paper\n",
    "epochs = 20\n",
    "for i in range(epochs):\n",
    "    print(f'Epoch {i+1}/{epochs}')\n",
    "    \n",
    "    epoch_disc_loss = 0.0\n",
    "    epoch_gen_loss = 0.0\n",
    "    \n",
    "    for i, (x, _) in enumerate(trainloader):\n",
    "        batch_size = x.size()[0]\n",
    "        x = x.to(device)\n",
    "        \n",
    "        generator_optim.zero_grad()\n",
    "        discriminator_optim.zero_grad()\n",
    "        \n",
    "        for j in range(disc_steps):\n",
    "            discriminator_loss = get_discriminator_loss()\n",
    "            epoch_disc_loss += discriminator_loss\n",
    "            discriminator_loss.backward()\n",
    "            discriminator_optim.step()\n",
    "\n",
    "        generator_loss = get_generator_loss()\n",
    "        epoch_gen_loss += generator_loss\n",
    "        generator_loss.backward()\n",
    "        generator_optim.step()\n",
    "    \n",
    "    print(f'Average generator loss {epoch_gen_loss / len(trainloader)}')\n",
    "    print(f'Average discriminator loss {epoch_disc_loss / (len(trainloader) * disc_steps)}')"
   ]
  },
  {
   "cell_type": "code",
   "execution_count": 15,
   "metadata": {},
   "outputs": [],
   "source": [
    "def sample(n_samples=1):\n",
    "    images = []\n",
    "    for i in range(n_samples):\n",
    "        z = torch.randn((1, z_length)).to(device)\n",
    "        gen = generator(z)\n",
    "        images.append(gen.view(dimensions).detach().cpu())\n",
    "\n",
    "    grid = utils.make_grid(images)\n",
    "    plt.imshow(np.transpose(grid, (1, 2, 0)))"
   ]
  },
  {
   "cell_type": "code",
   "execution_count": 16,
   "metadata": {},
   "outputs": [
    {
     "data": {
      "image/png": "[encoded data removed]",
      "text/plain": [
       "<matplotlib.figure.Figure at 0x7f53f7546a20>"
      ]
     },
     "metadata": {},
     "output_type": "display_data"
    }
   ],
   "source": [
    "sample(16)"
   ]
  },
  {
   "cell_type": "code",
   "execution_count": null,
   "metadata": {},
   "outputs": [],
   "source": []
  }
 ],
 "metadata": {
  "kernelspec": {
   "display_name": "Python 3",
   "language": "python",
   "name": "python3"
  },
  "language_info": {
   "codemirror_mode": {
    "name": "ipython",
    "version": 3
   },
   "file_extension": ".py",
   "mimetype": "text/x-python",
   "name": "python",
   "nbconvert_exporter": "python",
   "pygments_lexer": "ipython3",
   "version": "3.6.5"
  }
 },
 "nbformat": 4,
 "nbformat_minor": 2
}

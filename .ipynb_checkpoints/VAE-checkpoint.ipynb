{
 "cells": [
  {
   "cell_type": "markdown",
   "metadata": {},
   "source": [
    "# PyTorch VAE\n",
    "\n",
    "## References\n",
    "* [Auto-Encoding Variational Bayes](https://arxiv.org/pdf/1312.6114.pdf)\n",
    "* [Tutorial on Variational Autoencoders](https://arxiv.org/pdf/1606.05908.pdf)\n",
    "\n"
   ]
  },
  {
   "cell_type": "markdown",
   "metadata": {},
   "source": [
    "## Load Data"
   ]
  },
  {
   "cell_type": "code",
   "execution_count": 6,
   "metadata": {},
   "outputs": [],
   "source": [
    "import matplotlib\n",
    "%matplotlib inline\n",
    "\n",
    "from torchvision import transforms, datasets, utils\n",
    "import torch\n",
    "import matplotlib.pyplot as plt\n",
    "import numpy as np\n",
    "from random import choice"
   ]
  },
  {
   "cell_type": "code",
   "execution_count": 7,
   "metadata": {},
   "outputs": [],
   "source": [
    "tfms = transforms.ToTensor()"
   ]
  },
  {
   "cell_type": "code",
   "execution_count": 195,
   "metadata": {},
   "outputs": [
    {
     "name": "stdout",
     "output_type": "stream",
     "text": [
      "Number of training samples: 60000\n",
      "Number of testing samples: 10000\n"
     ]
    }
   ],
   "source": [
    "trainset = datasets.MNIST(root='~/Code/dl/datasets', train=True, download=True, transform=tfms)\n",
    "trainloader = torch.utils.data.DataLoader(trainset, batch_size=32, shuffle=True, num_workers=4)\n",
    "print(f'Number of training samples: {len(trainset)}')\n",
    "\n",
    "testset = datasets.MNIST(root='~/Code/dl/datasets', train=False, download=True, transform=tfms)\n",
    "testloader = torch.utils.data.DataLoader(testset, batch_size=4096, shuffle=True, num_workers=4)\n",
    "print(f'Number of testing samples: {len(testset)}')"
   ]
  },
  {
   "cell_type": "code",
   "execution_count": 197,
   "metadata": {},
   "outputs": [],
   "source": [
    "dimensions = (1, 28, 28)"
   ]
  },
  {
   "cell_type": "code",
   "execution_count": 221,
   "metadata": {},
   "outputs": [
    {
     "data": {
      "text/plain": [
       "<matplotlib.image.AxesImage at 0x7f024d0e9780>"
      ]
     },
     "execution_count": 221,
     "metadata": {},
     "output_type": "execute_result"
    },
    {
     "data": {
      "image/png": "[encoded data removed]",
      "text/plain": [
       "<matplotlib.figure.Figure at 0x7f024d5d0390>"
      ]
     },
     "metadata": {},
     "output_type": "display_data"
    }
   ],
   "source": [
    "plt.imshow(np.squeeze(choice(trainset)[0]), cmap='gray')"
   ]
  },
  {
   "cell_type": "markdown",
   "metadata": {},
   "source": [
    "## Define Model and Loss"
   ]
  },
  {
   "cell_type": "code",
   "execution_count": 200,
   "metadata": {},
   "outputs": [],
   "source": [
    "from torch import nn\n",
    "from torch.nn import functional as F"
   ]
  },
  {
   "cell_type": "code",
   "execution_count": 201,
   "metadata": {},
   "outputs": [],
   "source": [
    "# maps image to µ and σ of approximate gaussian posterior\n",
    "class VAE(nn.Module):\n",
    "    def __init__(self, inp_len, latent_size):\n",
    "        super(VAE, self).__init__()\n",
    "        \n",
    "        self.encoder = nn.Sequential(\n",
    "            nn.Linear(inp_len, 1000),\n",
    "            nn.ReLU(),\n",
    "            nn.Linear(1000, 200),\n",
    "            nn.ReLU()\n",
    "        )\n",
    "        self.mu = nn.Linear(200, latent_size)\n",
    "        self.sigma = nn.Linear(200, latent_size)\n",
    "        \n",
    "        self.decoder = nn.Sequential(\n",
    "            nn.Linear(latent_size, 1000),\n",
    "            nn.ReLU(),\n",
    "            nn.Linear(1000, inp_len),\n",
    "            nn.Sigmoid()\n",
    "        )\n",
    "    \n",
    "    def encode(self, x):\n",
    "        x = x.view(x.size(0), -1)\n",
    "        encoded = self.encoder(x)\n",
    "        return self.mu(encoded), self.sigma(encoded)\n",
    "    \n",
    "    def decode(self, z):\n",
    "        return self.decoder(z).view(-1, *dimensions)\n",
    "    \n",
    "    def random_z(self, mu, sigma):\n",
    "        return torch.randn_like(mu) * sigma + mu\n",
    "    \n",
    "    def forward(self, x):\n",
    "        mu, sigma = self.encode(x)\n",
    "        z = self.random_z(mu, sigma)\n",
    "        return self.decode(z), mu, sigma"
   ]
  },
  {
   "cell_type": "code",
   "execution_count": 202,
   "metadata": {},
   "outputs": [],
   "source": [
    "def kl_loss(mu, sigma):\n",
    "    sigma_squared = sigma.pow(2)\n",
    "    return -0.5 * torch.sum(1 + torch.log(sigma_squared) - mu.pow(2) - sigma_squared)"
   ]
  },
  {
   "cell_type": "code",
   "execution_count": 203,
   "metadata": {},
   "outputs": [],
   "source": [
    "def recon_loss(pred, inp):\n",
    "    return F.binary_cross_entropy(pred, inp, size_average=False)"
   ]
  },
  {
   "cell_type": "markdown",
   "metadata": {},
   "source": [
    "## Training"
   ]
  },
  {
   "cell_type": "code",
   "execution_count": 204,
   "metadata": {},
   "outputs": [],
   "source": [
    "device = torch.device('cuda')\n",
    "\n",
    "vae = VAE(int(np.product(dimensions)), 20).to(device)"
   ]
  },
  {
   "cell_type": "code",
   "execution_count": 205,
   "metadata": {},
   "outputs": [],
   "source": [
    "optimizer = torch.optim.Adam(vae.parameters(), lr=1e-3)"
   ]
  },
  {
   "cell_type": "code",
   "execution_count": 206,
   "metadata": {},
   "outputs": [
    {
     "name": "stdout",
     "output_type": "stream",
     "text": [
      "\n",
      "EPOCH 1/10\n",
      "Average loss: 279.9429931640625\n",
      "\n",
      "EPOCH 2/10\n",
      "Average loss: 261.19317626953125\n",
      "\n",
      "EPOCH 3/10\n",
      "Average loss: 273.76922607421875\n",
      "\n",
      "EPOCH 4/10\n",
      "Average loss: 265.96551513671875\n",
      "\n",
      "EPOCH 5/10\n",
      "Average loss: 254.1760711669922\n",
      "\n",
      "EPOCH 6/10\n",
      "Average loss: 247.6124725341797\n",
      "\n",
      "EPOCH 7/10\n",
      "Average loss: 245.73446655273438\n",
      "\n",
      "EPOCH 8/10\n",
      "Average loss: 243.86854553222656\n",
      "\n",
      "EPOCH 9/10\n",
      "Average loss: 243.02731323242188\n",
      "\n",
      "EPOCH 10/10\n",
      "Average loss: 243.3665313720703\n"
     ]
    }
   ],
   "source": [
    "vae.train()\n",
    "epochs = 10\n",
    "for epoch in range(epochs):\n",
    "    print(f'\\nEPOCH {epoch + 1}/{epochs}')\n",
    "    \n",
    "    total_loss = 0\n",
    "        \n",
    "    for i, (data, _) in enumerate(trainloader):\n",
    "        data = data.to(device)\n",
    "        \n",
    "        optimizer.zero_grad()\n",
    "        recon, mu, sigma = vae(data)\n",
    "        loss = recon_loss(recon, data) + kl_loss(mu, sigma)\n",
    "        total_loss += loss\n",
    "\n",
    "        loss.backward() \n",
    "        optimizer.step()\n",
    "    \n",
    "    print(f'Average loss: {total_loss / len(trainloader.dataset)}')"
   ]
  },
  {
   "cell_type": "markdown",
   "metadata": {},
   "source": [
    "## Testing"
   ]
  },
  {
   "cell_type": "code",
   "execution_count": 222,
   "metadata": {},
   "outputs": [],
   "source": [
    "def test_cycle(img):\n",
    "    generated, _, _ = vae.forward(img.unsqueeze(0).to(device))\n",
    "    generated = generated.detach().cpu().squeeze(0)\n",
    "\n",
    "    print('Original on left, generated on right')\n",
    "    grid = utils.make_grid([img, generated])\n",
    "    plt.imshow(np.transpose(grid, (1, 2, 0)))"
   ]
  },
  {
   "cell_type": "code",
   "execution_count": 223,
   "metadata": {},
   "outputs": [
    {
     "name": "stdout",
     "output_type": "stream",
     "text": [
      "Original on left, generated on right\n"
     ]
    },
    {
     "data": {
      "image/png": "[encoded data removed]",
      "text/plain": [
       "<matplotlib.figure.Figure at 0x7f024d60d198>"
      ]
     },
     "metadata": {},
     "output_type": "display_data"
    }
   ],
   "source": [
    "test_cycle(choice(testset)[0])"
   ]
  },
  {
   "cell_type": "code",
   "execution_count": 236,
   "metadata": {},
   "outputs": [],
   "source": [
    "def test_random():\n",
    "    generated = vae.decode(torch.randn((1, 20)).to(device))\n",
    "    generated = generated.detach().cpu().squeeze().numpy()\n",
    "    \n",
    "    plt.imshow(generated, cmap='gray')"
   ]
  },
  {
   "cell_type": "code",
   "execution_count": 237,
   "metadata": {},
   "outputs": [
    {
     "data": {
      "image/png": "[encoded data removed]",
      "text/plain": [
       "<matplotlib.figure.Figure at 0x7f0250be7b70>"
      ]
     },
     "metadata": {},
     "output_type": "display_data"
    }
   ],
   "source": [
    "test_random()"
   ]
  },
  {
   "cell_type": "code",
   "execution_count": 238,
   "metadata": {},
   "outputs": [],
   "source": [
    "def test_interpolate(start, end, n_steps=8):\n",
    "    mu, sigma = vae.encode(start.cuda())\n",
    "    start_z = vae.random_z(mu, sigma).detach().squeeze()\n",
    "    \n",
    "    mu, sigma = vae.encode(end.cuda())\n",
    "    end_z = vae.random_z(mu, sigma).detach().squeeze()\n",
    "\n",
    "    step = (end_z - start_z) / n_steps\n",
    "    \n",
    "    interpolations = []\n",
    "    last = start_z\n",
    "    for i in range(n_steps):\n",
    "        interpolations.append(last + step * i)\n",
    "    \n",
    "    images = []\n",
    "    for interpolation in interpolations:\n",
    "        images.append(vae.decode(interpolation).detach().cpu().squeeze(0))\n",
    "    grid = utils.make_grid(images)\n",
    "    plt.imshow(np.transpose(grid, (1, 2, 0)))"
   ]
  },
  {
   "cell_type": "code",
   "execution_count": 239,
   "metadata": {},
   "outputs": [
    {
     "data": {
      "image/png": "[encoded data removed]",
      "text/plain": [
       "<matplotlib.figure.Figure at 0x7f0250b63470>"
      ]
     },
     "metadata": {},
     "output_type": "display_data"
    }
   ],
   "source": [
    "test_interpolate(choice(testset)[0], choice(testset)[0], 16)"
   ]
  },
  {
   "cell_type": "code",
   "execution_count": null,
   "metadata": {},
   "outputs": [],
   "source": []
  }
 ],
 "metadata": {
  "kernelspec": {
   "display_name": "Python 3",
   "language": "python",
   "name": "python3"
  },
  "language_info": {
   "codemirror_mode": {
    "name": "ipython",
    "version": 3
   },
   "file_extension": ".py",
   "mimetype": "text/x-python",
   "name": "python",
   "nbconvert_exporter": "python",
   "pygments_lexer": "ipython3",
   "version": "3.6.5"
  }
 },
 "nbformat": 4,
 "nbformat_minor": 2
}
